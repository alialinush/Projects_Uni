{
 "cells": [
  {
   "cell_type": "code",
   "execution_count": 7,
   "metadata": {},
   "outputs": [],
   "source": [
    "import os\n",
    "import shutil\n",
    "import time\n",
    "import tensorflow as tf\n",
    "from PIL import Image\n",
    "import numpy as np\n",
    "import pandas as pd\n",
    "import matplotlib.pyplot as plt"
   ]
  },
  {
   "cell_type": "code",
   "execution_count": 8,
   "metadata": {},
   "outputs": [],
   "source": [
    "train_df = pd.read_csv(\"train_images.csv\")\n",
    "test_df = pd.read_csv(\"test_images_path.csv\")"
   ]
  },
  {
   "cell_type": "code",
   "execution_count": 9,
   "metadata": {},
   "outputs": [],
   "source": [
    "import re\n",
    "\n",
    "def remove_prefix_and_suffix(text):\n",
    "    return re.sub(r'/train_images/', '', text)\n",
    "train_df['image_path'] = train_df['image_path'].apply(remove_prefix_and_suffix)\n"
   ]
  },
  {
   "cell_type": "code",
   "execution_count": 5,
   "metadata": {},
   "outputs": [
    {
     "data": {
      "text/html": [
       "<div>\n",
       "<style scoped>\n",
       "    .dataframe tbody tr th:only-of-type {\n",
       "        vertical-align: middle;\n",
       "    }\n",
       "\n",
       "    .dataframe tbody tr th {\n",
       "        vertical-align: top;\n",
       "    }\n",
       "\n",
       "    .dataframe thead th {\n",
       "        text-align: right;\n",
       "    }\n",
       "</style>\n",
       "<table border=\"1\" class=\"dataframe\">\n",
       "  <thead>\n",
       "    <tr style=\"text-align: right;\">\n",
       "      <th></th>\n",
       "      <th>image_path</th>\n",
       "      <th>label</th>\n",
       "    </tr>\n",
       "  </thead>\n",
       "  <tbody>\n",
       "    <tr>\n",
       "      <th>0</th>\n",
       "      <td>1.jpg</td>\n",
       "      <td>1</td>\n",
       "    </tr>\n",
       "    <tr>\n",
       "      <th>1</th>\n",
       "      <td>2.jpg</td>\n",
       "      <td>1</td>\n",
       "    </tr>\n",
       "    <tr>\n",
       "      <th>2</th>\n",
       "      <td>3.jpg</td>\n",
       "      <td>1</td>\n",
       "    </tr>\n",
       "    <tr>\n",
       "      <th>3</th>\n",
       "      <td>4.jpg</td>\n",
       "      <td>1</td>\n",
       "    </tr>\n",
       "    <tr>\n",
       "      <th>4</th>\n",
       "      <td>5.jpg</td>\n",
       "      <td>1</td>\n",
       "    </tr>\n",
       "    <tr>\n",
       "      <th>...</th>\n",
       "      <td>...</td>\n",
       "      <td>...</td>\n",
       "    </tr>\n",
       "    <tr>\n",
       "      <th>3921</th>\n",
       "      <td>3922.jpg</td>\n",
       "      <td>200</td>\n",
       "    </tr>\n",
       "    <tr>\n",
       "      <th>3922</th>\n",
       "      <td>3923.jpg</td>\n",
       "      <td>200</td>\n",
       "    </tr>\n",
       "    <tr>\n",
       "      <th>3923</th>\n",
       "      <td>3924.jpg</td>\n",
       "      <td>200</td>\n",
       "    </tr>\n",
       "    <tr>\n",
       "      <th>3924</th>\n",
       "      <td>3925.jpg</td>\n",
       "      <td>200</td>\n",
       "    </tr>\n",
       "    <tr>\n",
       "      <th>3925</th>\n",
       "      <td>3926.jpg</td>\n",
       "      <td>200</td>\n",
       "    </tr>\n",
       "  </tbody>\n",
       "</table>\n",
       "<p>3926 rows × 2 columns</p>\n",
       "</div>"
      ],
      "text/plain": [
       "     image_path  label\n",
       "0         1.jpg      1\n",
       "1         2.jpg      1\n",
       "2         3.jpg      1\n",
       "3         4.jpg      1\n",
       "4         5.jpg      1\n",
       "...         ...    ...\n",
       "3921   3922.jpg    200\n",
       "3922   3923.jpg    200\n",
       "3923   3924.jpg    200\n",
       "3924   3925.jpg    200\n",
       "3925   3926.jpg    200\n",
       "\n",
       "[3926 rows x 2 columns]"
      ]
     },
     "execution_count": 5,
     "metadata": {},
     "output_type": "execute_result"
    }
   ],
   "source": [
    "train_df"
   ]
  },
  {
   "cell_type": "code",
   "execution_count": 6,
   "metadata": {},
   "outputs": [
    {
     "name": "stdout",
     "output_type": "stream",
     "text": [
      "Images copied to respective folders.\n"
     ]
    }
   ],
   "source": [
    "## RUN THE CODE CHUNK ONLY ONES OR DO NOT RUN IT IF YOU FORMATTED THE DATA CORRECTLY\n",
    "\n",
    "# Define the current image directory\n",
    "train_images = './train_images/'\n",
    "# define the future directory with image subfolders \n",
    "train_images_subs = './train_images_separated'\n",
    "#run the below code if you want to create it in the current working directory\n",
    "#os.makedirs(train_images_subs)\n",
    "\n",
    "# Iterate through unique labels in the DataFrame\n",
    "for label in train_df['label'].unique():\n",
    "    # Create a folder for each label\n",
    "    label_folder = os.path.join(train_images_subs, str(label))\n",
    "    os.makedirs(label_folder, exist_ok=True)\n",
    "    time.sleep(2)\n",
    "    # Copy images with the specific label to the corresponding folder\n",
    "    label_images = train_df[train_df['label'] == label]['image_path']\n",
    "    for image_path in label_images:\n",
    "        image_filename = os.path.basename(image_path)\n",
    "        destination_path = os.path.join(label_folder, image_filename)\n",
    "        shutil.copy(train_images+image_path, destination_path)\n",
    "\n",
    "print(\"Images copied to respective folders.\")"
   ]
  },
  {
   "cell_type": "code",
   "execution_count": null,
   "metadata": {},
   "outputs": [],
   "source": []
  }
 ],
 "metadata": {
  "kernelspec": {
   "display_name": "base",
   "language": "python",
   "name": "python3"
  },
  "language_info": {
   "codemirror_mode": {
    "name": "ipython",
    "version": 3
   },
   "file_extension": ".py",
   "mimetype": "text/x-python",
   "name": "python",
   "nbconvert_exporter": "python",
   "pygments_lexer": "ipython3",
   "version": "3.11.6"
  }
 },
 "nbformat": 4,
 "nbformat_minor": 2
}
