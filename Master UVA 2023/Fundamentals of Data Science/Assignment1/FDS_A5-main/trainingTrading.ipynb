{
 "cells": [
  {
   "cell_type": "code",
   "execution_count": 1,
   "metadata": {},
   "outputs": [],
   "source": [
    "import pandas as pd\n",
    "\n",
    "from sklearn.preprocessing import LabelEncoder\n",
    "from sklearn.model_selection import train_test_split, GridSearchCV\n",
    "from sklearn.tree import DecisionTreeClassifier\n",
    "\n",
    "import joblib"
   ]
  },
  {
   "cell_type": "code",
   "execution_count": 2,
   "metadata": {},
   "outputs": [
    {
     "data": {
      "text/html": [
       "<div>\n",
       "<style scoped>\n",
       "    .dataframe tbody tr th:only-of-type {\n",
       "        vertical-align: middle;\n",
       "    }\n",
       "\n",
       "    .dataframe tbody tr th {\n",
       "        vertical-align: top;\n",
       "    }\n",
       "\n",
       "    .dataframe thead th {\n",
       "        text-align: right;\n",
       "    }\n",
       "</style>\n",
       "<table border=\"1\" class=\"dataframe\">\n",
       "  <thead>\n",
       "    <tr style=\"text-align: right;\">\n",
       "      <th></th>\n",
       "      <th>happiness_classification</th>\n",
       "      <th>norm_imports</th>\n",
       "      <th>norm_exports</th>\n",
       "      <th>fear</th>\n",
       "      <th>anger</th>\n",
       "      <th>surprise</th>\n",
       "      <th>sadness</th>\n",
       "      <th>disgust</th>\n",
       "      <th>joy</th>\n",
       "      <th>anticipation</th>\n",
       "      <th>year</th>\n",
       "      <th>country</th>\n",
       "    </tr>\n",
       "  </thead>\n",
       "  <tbody>\n",
       "    <tr>\n",
       "      <th>0</th>\n",
       "      <td>0</td>\n",
       "      <td>13.643921</td>\n",
       "      <td>11.979343</td>\n",
       "      <td>0.044010</td>\n",
       "      <td>0.029340</td>\n",
       "      <td>0.034230</td>\n",
       "      <td>0.031785</td>\n",
       "      <td>0.026895</td>\n",
       "      <td>0.056235</td>\n",
       "      <td>0.100244</td>\n",
       "      <td>2005</td>\n",
       "      <td>Mexico</td>\n",
       "    </tr>\n",
       "    <tr>\n",
       "      <th>1</th>\n",
       "      <td>0</td>\n",
       "      <td>13.469564</td>\n",
       "      <td>15.552570</td>\n",
       "      <td>0.060606</td>\n",
       "      <td>0.028520</td>\n",
       "      <td>0.033868</td>\n",
       "      <td>0.035651</td>\n",
       "      <td>0.024955</td>\n",
       "      <td>0.057041</td>\n",
       "      <td>0.112299</td>\n",
       "      <td>2005</td>\n",
       "      <td>Japan</td>\n",
       "    </tr>\n",
       "    <tr>\n",
       "      <th>2</th>\n",
       "      <td>1</td>\n",
       "      <td>6.874739</td>\n",
       "      <td>7.213294</td>\n",
       "      <td>0.072381</td>\n",
       "      <td>0.049524</td>\n",
       "      <td>0.040000</td>\n",
       "      <td>0.038095</td>\n",
       "      <td>0.034286</td>\n",
       "      <td>0.097143</td>\n",
       "      <td>0.091429</td>\n",
       "      <td>2005</td>\n",
       "      <td>Belgium</td>\n",
       "    </tr>\n",
       "    <tr>\n",
       "      <th>3</th>\n",
       "      <td>0</td>\n",
       "      <td>6.624081</td>\n",
       "      <td>4.183923</td>\n",
       "      <td>0.059840</td>\n",
       "      <td>0.043883</td>\n",
       "      <td>0.019947</td>\n",
       "      <td>0.041223</td>\n",
       "      <td>0.031915</td>\n",
       "      <td>0.070479</td>\n",
       "      <td>0.093085</td>\n",
       "      <td>2005</td>\n",
       "      <td>Pakistan</td>\n",
       "    </tr>\n",
       "    <tr>\n",
       "      <th>4</th>\n",
       "      <td>1</td>\n",
       "      <td>12.099429</td>\n",
       "      <td>11.116681</td>\n",
       "      <td>0.070225</td>\n",
       "      <td>0.043539</td>\n",
       "      <td>0.036517</td>\n",
       "      <td>0.036517</td>\n",
       "      <td>0.028090</td>\n",
       "      <td>0.081461</td>\n",
       "      <td>0.102528</td>\n",
       "      <td>2005</td>\n",
       "      <td>France</td>\n",
       "    </tr>\n",
       "  </tbody>\n",
       "</table>\n",
       "</div>"
      ],
      "text/plain": [
       "   happiness_classification  norm_imports  norm_exports      fear     anger  \\\n",
       "0                         0     13.643921     11.979343  0.044010  0.029340   \n",
       "1                         0     13.469564     15.552570  0.060606  0.028520   \n",
       "2                         1      6.874739      7.213294  0.072381  0.049524   \n",
       "3                         0      6.624081      4.183923  0.059840  0.043883   \n",
       "4                         1     12.099429     11.116681  0.070225  0.043539   \n",
       "\n",
       "   surprise   sadness   disgust       joy  anticipation  year   country  \n",
       "0  0.034230  0.031785  0.026895  0.056235      0.100244  2005    Mexico  \n",
       "1  0.033868  0.035651  0.024955  0.057041      0.112299  2005     Japan  \n",
       "2  0.040000  0.038095  0.034286  0.097143      0.091429  2005   Belgium  \n",
       "3  0.019947  0.041223  0.031915  0.070479      0.093085  2005  Pakistan  \n",
       "4  0.036517  0.036517  0.028090  0.081461      0.102528  2005    France  "
      ]
     },
     "execution_count": 2,
     "metadata": {},
     "output_type": "execute_result"
    }
   ],
   "source": [
    "# Reading the dataset\n",
    "\n",
    "df = pd.read_csv('Data/preprocessed_dataset.csv')\n",
    "\n",
    "le = LabelEncoder()\n",
    "df[\"happiness_classification\"] = le.fit_transform(df[\"happiness_classification\"])\n",
    "df[\"happiness_classification\"] = df[\"happiness_classification\"].replace({0: 1, 1: 0})\n",
    "\n",
    "df.head()"
   ]
  },
  {
   "cell_type": "code",
   "execution_count": 3,
   "metadata": {},
   "outputs": [],
   "source": [
    "# Selecting variables of interest\n",
    "\n",
    "X = df[['norm_imports', 'norm_exports']]\n",
    "y = df['happiness_classification']"
   ]
  },
  {
   "cell_type": "code",
   "execution_count": 4,
   "metadata": {},
   "outputs": [],
   "source": [
    "# Creating train-test split\n",
    "\n",
    "X_train, X_test, y_train, y_test = train_test_split(X, y, test_size=0.2, random_state=5)"
   ]
  },
  {
   "cell_type": "code",
   "execution_count": 5,
   "metadata": {},
   "outputs": [],
   "source": [
    "# Defining hyperparameter values for grid search.\n",
    "\n",
    "param_grid = {\n",
    "    'max_depth': [1, 3, 5, 7, 10],\n",
    "    'min_samples_split': [5, 10, 15, 20, 50],\n",
    "    'min_samples_leaf': [1, 3, 5, 7, 10]\n",
    "}"
   ]
  },
  {
   "cell_type": "code",
   "execution_count": 6,
   "metadata": {},
   "outputs": [],
   "source": [
    "# Specifying the type of model and cross-validation method.\n",
    "\n",
    "tree_clf = DecisionTreeClassifier(criterion='gini', random_state=5)\n",
    "\n",
    "grid_search = GridSearchCV(tree_clf, param_grid, cv=10, scoring='accuracy')"
   ]
  },
  {
   "cell_type": "code",
   "execution_count": 7,
   "metadata": {},
   "outputs": [
    {
     "data": {
      "text/plain": [
       "GridSearchCV(cv=10, estimator=DecisionTreeClassifier(random_state=5),\n",
       "             param_grid={'max_depth': [1, 3, 5, 7, 10],\n",
       "                         'min_samples_leaf': [1, 3, 5, 7, 10],\n",
       "                         'min_samples_split': [5, 10, 15, 20, 50]},\n",
       "             scoring='accuracy')"
      ]
     },
     "execution_count": 7,
     "metadata": {},
     "output_type": "execute_result"
    }
   ],
   "source": [
    "# Fitting the model through cross-validation.\n",
    "\n",
    "grid_search.fit(X_train, y_train)"
   ]
  },
  {
   "cell_type": "code",
   "execution_count": 8,
   "metadata": {},
   "outputs": [
    {
     "name": "stdout",
     "output_type": "stream",
     "text": [
      "Best Hyperparameters: {'max_depth': 10, 'min_samples_leaf': 3, 'min_samples_split': 15}\n",
      "Best Accuracy: 0.7446501295816365\n"
     ]
    }
   ],
   "source": [
    "# Printing best hyperparameter values and best training accuracy.\n",
    "\n",
    "print(\"Best Hyperparameters:\", grid_search.best_params_)\n",
    "print(\"Best Accuracy:\", grid_search.best_score_)"
   ]
  },
  {
   "cell_type": "code",
   "execution_count": 9,
   "metadata": {},
   "outputs": [
    {
     "data": {
      "text/plain": [
       "DecisionTreeClassifier(max_depth=10, min_samples_leaf=3, min_samples_split=15,\n",
       "                       random_state=5)"
      ]
     },
     "execution_count": 9,
     "metadata": {},
     "output_type": "execute_result"
    }
   ],
   "source": [
    "# Obtaining and training the best trained model.\n",
    "\n",
    "best_tree = grid_search.best_estimator_\n",
    "\n",
    "best_tree.fit(X_train, y_train)"
   ]
  },
  {
   "cell_type": "code",
   "execution_count": 10,
   "metadata": {},
   "outputs": [
    {
     "name": "stdout",
     "output_type": "stream",
     "text": [
      "Accuracy on Test Set: 0.7783783783783784\n"
     ]
    }
   ],
   "source": [
    "# Calculating accuracy on test set.\n",
    "\n",
    "accuracy_on_test = best_tree.score(X_test, y_test)\n",
    "print(\"Accuracy on Test Set:\", accuracy_on_test)"
   ]
  },
  {
   "cell_type": "code",
   "execution_count": 11,
   "metadata": {},
   "outputs": [
    {
     "data": {
      "text/plain": [
       "['Models/trading_tree_clf.pkl']"
      ]
     },
     "execution_count": 11,
     "metadata": {},
     "output_type": "execute_result"
    }
   ],
   "source": [
    "# Exporting best model for use in evaluation.\n",
    "\n",
    "joblib.dump(best_tree, 'Models/trading_tree_clf.pkl')"
   ]
  }
 ],
 "metadata": {
  "kernelspec": {
   "display_name": "base",
   "language": "python",
   "name": "python3"
  },
  "language_info": {
   "codemirror_mode": {
    "name": "ipython",
    "version": 3
   },
   "file_extension": ".py",
   "mimetype": "text/x-python",
   "name": "python",
   "nbconvert_exporter": "python",
   "pygments_lexer": "ipython3",
   "version": "3.9.7"
  },
  "orig_nbformat": 4
 },
 "nbformat": 4,
 "nbformat_minor": 2
}
